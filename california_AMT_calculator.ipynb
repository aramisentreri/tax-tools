{
 "cells": [
  {
   "cell_type": "markdown",
   "id": "466fbe4c",
   "metadata": {},
   "source": [
    "\n",
    "# California AMT Calculator - For Personal Use\n",
    "## This notebook estimates your California Alternative Minimum Tax (AMT) liability\n",
    "## based on the CA FTB Exemption Worksheet guidelines.\n",
    "\n",
    "### Author: Gustavo Navarro\n",
    "### Last updated: April 2025"
   ]
  },
  {
   "cell_type": "markdown",
   "id": "5194709b",
   "metadata": {},
   "source": [
    "## Step 1: Inputs"
   ]
  },
  {
   "cell_type": "code",
   "execution_count": 21,
   "id": "8aaa680b",
   "metadata": {},
   "outputs": [],
   "source": [
    "filing_status = \"married_filing_jointly\"  # Other Options: \"single\",\n",
    "\"head_of_household\",\n",
    "\"married_filing_jointly\",\n",
    "\"married_filing_separately\"\n",
    "amti = 410000  # Your Alternative Minimum Taxable Income e.g. husband 200K + wife 200K + 10K of ISO exercised"
   ]
  },
  {
   "cell_type": "markdown",
   "id": "90e1ddbb",
   "metadata": {},
   "source": [
    "## Step 2: Lookup values based on filing status"
   ]
  },
  {
   "cell_type": "code",
   "execution_count": 22,
   "id": "45fd8193",
   "metadata": {},
   "outputs": [],
   "source": [
    "exemption_lookup = {\n",
    "    \"single\": 87171,\n",
    "    \"head_of_household\": 87171,\n",
    "    \"married_filing_jointly\": 116229,\n",
    "    \"qualifying_surviving_spouse\": 116229,\n",
    "    \"married_filing_separately\": 58111,\n",
    "}\n",
    "\n",
    "phaseout_thresholds = {\n",
    "    \"single\": 326891,\n",
    "    \"head_of_household\": 326891,\n",
    "    \"married_filing_jointly\": 435855,\n",
    "    \"qualifying_surviving_spouse\": 435855,\n",
    "    \"married_filing_separately\": 217924,\n",
    "}"
   ]
  },
  {
   "cell_type": "markdown",
   "id": "fe331479",
   "metadata": {},
   "source": [
    "## Step 3: Calculate exemption phase-out"
   ]
  },
  {
   "cell_type": "code",
   "execution_count": 23,
   "id": "6dd838f7",
   "metadata": {},
   "outputs": [],
   "source": [
    "exemption = exemption_lookup.get(filing_status,\n",
    "0)\n",
    "phaseout_threshold = phaseout_thresholds.get(filing_status,\n",
    "0)\n",
    "\n",
    "excess_amti = max(0, amti - phaseout_threshold)\n",
    "exemption_reduction = excess_amti * 0.25\n",
    "final_exemption = max(0, exemption - exemption_reduction)\n",
    "\n"
   ]
  },
  {
   "cell_type": "markdown",
   "id": "525241c9",
   "metadata": {},
   "source": [
    "## Step 4: Calculate tentative minimum tax base"
   ]
  },
  {
   "cell_type": "code",
   "execution_count": 24,
   "id": "0a1179f9",
   "metadata": {},
   "outputs": [],
   "source": [
    "amt_base = amti - final_exemption"
   ]
  },
  {
   "cell_type": "markdown",
   "id": "6e9e346f",
   "metadata": {},
   "source": [
    "## Step 5: Apply AMT rate (CA AMT rate is 7%)"
   ]
  },
  {
   "cell_type": "code",
   "execution_count": 25,
   "id": "b697edc5",
   "metadata": {},
   "outputs": [],
   "source": [
    "ca_amt_rate = 0.07\n",
    "tentative_amt = amt_base * ca_amt_rate"
   ]
  },
  {
   "cell_type": "markdown",
   "id": "410bd69b",
   "metadata": {},
   "source": [
    "## Step 6: Display results"
   ]
  },
  {
   "cell_type": "code",
   "execution_count": 26,
   "id": "6a05cb94",
   "metadata": {},
   "outputs": [
    {
     "name": "stdout",
     "output_type": "stream",
     "text": [
      "California AMT Estimator\n",
      "------------------------\n",
      "Filing Status: Married Filing Jointly\n",
      "Alternative Minimum Taxable Income (AMTI): $410,000.00\n",
      "Standard Exemption: $116,229.00\n",
      "Phaseout Threshold: $435,855.00\n",
      "Exemption Reduction: $0.00\n",
      "Final Exemption Amount: $116,229.00\n",
      "Tentative AMT Base: $293,771.00\n",
      "Estimated Tentative CA AMT: $20,563.97\n"
     ]
    }
   ],
   "source": [
    "print(\"California AMT Estimator\")\n",
    "print(\"------------------------\")\n",
    "print(f\"Filing Status: {filing_status.replace('_', ' ').title()}\")\n",
    "print(f\"Alternative Minimum Taxable Income (AMTI): ${amti:,.2f}\")\n",
    "print(f\"Standard Exemption: ${exemption:,.2f}\")\n",
    "print(f\"Phaseout Threshold: ${phaseout_threshold:,.2f}\")\n",
    "print(f\"Exemption Reduction: ${exemption_reduction:,.2f}\")\n",
    "print(f\"Final Exemption Amount: ${final_exemption:,.2f}\")\n",
    "print(f\"Tentative AMT Base: ${amt_base:,.2f}\")\n",
    "print(f\"Estimated Tentative CA AMT: ${tentative_amt:,.2f}\")"
   ]
  },
  {
   "cell_type": "markdown",
   "id": "19ebe2ff",
   "metadata": {},
   "source": []
  }
 ],
 "metadata": {
  "kernelspec": {
   "display_name": "Python 3",
   "language": "python",
   "name": "python3"
  },
  "language_info": {
   "codemirror_mode": {
    "name": "ipython",
    "version": 3
   },
   "file_extension": ".py",
   "mimetype": "text/x-python",
   "name": "python",
   "nbconvert_exporter": "python",
   "pygments_lexer": "ipython3",
   "version": "3.12.3"
  }
 },
 "nbformat": 4,
 "nbformat_minor": 5
}
